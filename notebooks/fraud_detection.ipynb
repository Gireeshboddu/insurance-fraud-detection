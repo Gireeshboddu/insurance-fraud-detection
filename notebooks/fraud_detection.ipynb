{
 "cells": [
  {
   "cell_type": "code",
   "execution_count": 4,
   "id": "7d1db336",
   "metadata": {},
   "outputs": [
    {
     "name": "stdout",
     "output_type": "stream",
     "text": [
      "✅ Using 20 numeric features\n",
      "📊 Confusion Matrix:\n",
      " [[145   0]\n",
      " [ 54   1]]\n",
      "📋 Classification Report:\n",
      "               precision    recall  f1-score   support\n",
      "\n",
      "           0       0.73      1.00      0.84       145\n",
      "           1       1.00      0.02      0.04        55\n",
      "\n",
      "    accuracy                           0.73       200\n",
      "   macro avg       0.86      0.51      0.44       200\n",
      "weighted avg       0.80      0.73      0.62       200\n",
      "\n",
      "✅ Model saved to ../models/fraud_model.pkl\n"
     ]
    }
   ],
   "source": [
    "import pandas as pd\n",
    "import joblib\n",
    "from sklearn.model_selection import train_test_split\n",
    "from sklearn.ensemble import RandomForestClassifier\n",
    "from sklearn.metrics import confusion_matrix, classification_report\n",
    "\n",
    "# 📥 Load dataset\n",
    "df = pd.read_csv('../data/raw/insurance.csv')\n",
    "\n",
    "# 🎯 Encode target column\n",
    "df['fraud_reported'] = df['fraud_reported'].map({'Y': 1, 'N': 0})\n",
    "\n",
    "# ➕ Create numeric feature (optional)\n",
    "df['claim_ratio'] = df['total_claim_amount'] / (df['age'] + 1e-5)  # prevent divide-by-zero\n",
    "\n",
    "# ✅ Select features (only numeric)\n",
    "X = df.drop(columns=['fraud_reported']).select_dtypes(include='number')\n",
    "y = df['fraud_reported']\n",
    "\n",
    "print(f\"✅ Using {X.shape[1]} numeric features\")\n",
    "\n",
    "# ✂️ Split data\n",
    "X_train, X_test, y_train, y_test = train_test_split(X, y, test_size=0.2, random_state=42)\n",
    "\n",
    "# 🤖 Train model\n",
    "model = RandomForestClassifier(n_estimators=100, random_state=42)\n",
    "model.fit(X_train, y_train)\n",
    "\n",
    "# 📊 Evaluate\n",
    "y_pred = model.predict(X_test)\n",
    "print(\"📊 Confusion Matrix:\\n\", confusion_matrix(y_test, y_pred))\n",
    "print(\"📋 Classification Report:\\n\", classification_report(y_test, y_pred))\n",
    "\n",
    "# 💾 Save model\n",
    "joblib.dump(model, '../models/fraud_model.pkl')\n",
    "print(\"✅ Model saved to ../models/fraud_model.pkl\")\n"
   ]
  },
  {
   "cell_type": "code",
   "execution_count": null,
   "id": "38e301de",
   "metadata": {},
   "outputs": [],
   "source": []
  },
  {
   "cell_type": "code",
   "execution_count": null,
   "id": "af9756c5",
   "metadata": {},
   "outputs": [],
   "source": []
  },
  {
   "cell_type": "code",
   "execution_count": null,
   "id": "78078e1b",
   "metadata": {},
   "outputs": [],
   "source": []
  }
 ],
 "metadata": {
  "kernelspec": {
   "display_name": "Python 3",
   "language": "python",
   "name": "python3"
  },
  "language_info": {
   "codemirror_mode": {
    "name": "ipython",
    "version": 3
   },
   "file_extension": ".py",
   "mimetype": "text/x-python",
   "name": "python",
   "nbconvert_exporter": "python",
   "pygments_lexer": "ipython3",
   "version": "3.13.2"
  }
 },
 "nbformat": 4,
 "nbformat_minor": 5
}
